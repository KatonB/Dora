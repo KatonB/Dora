{
  "nbformat": 4,
  "nbformat_minor": 0,
  "metadata": {
    "colab": {
      "provenance": []
    },
    "kernelspec": {
      "name": "python3",
      "display_name": "Python 3"
    },
    "language_info": {
      "name": "python"
    },
    "accelerator": "GPU",
    "gpuClass": "standard"
  },
  "cells": [
    {
      "cell_type": "markdown",
      "source": [],
      "metadata": {
        "id": "IUCNvIryD0sn"
      }
    },
    {
      "cell_type": "markdown",
      "source": [
        "# Через терни - к звёздам. Недуачные попытки."
      ],
      "metadata": {
        "id": "qgLptWaoD83y"
      }
    },
    {
      "cell_type": "markdown",
      "source": [
        "## 1. Работа с корреляцией, 4 модели."
      ],
      "metadata": {
        "id": "lLinR6F7EHE2"
      }
    },
    {
      "cell_type": "markdown",
      "source": [
        "Первой попыткой подступить к задаче - все столбцы с категориальными признаками обработать через LabelEncoder, заполнить пустые места нулями, выкинуть из Train все столбцы с коэффициентом корреляции >0.8 и прогнать на 4 моделях (пред этим применив метод главных компонент для понижения размерности): RandomForest, Gradient Boosting, KNN, GaussianNB. Максимальный AUC ROC - GB = 0.64. Плохо. Думать дальше."
      ],
      "metadata": {
        "id": "ekMoSnWQEc8j"
      }
    },
    {
      "cell_type": "markdown",
      "source": [
        "### Библиотеки"
      ],
      "metadata": {
        "id": "L9FQ8VYGGSbs"
      }
    },
    {
      "cell_type": "code",
      "source": [
        "!pip install ml_metrics"
      ],
      "metadata": {
        "id": "gcTGG5MbFFkk"
      },
      "execution_count": null,
      "outputs": []
    },
    {
      "cell_type": "code",
      "source": [
        "import numpy as np\n",
        "import pandas as pd\n",
        "from google.colab import drive\n",
        "import sklearn\n",
        "from sklearn.decomposition import PCA\n",
        "from sklearn.ensemble import RandomForestClassifier, GradientBoostingClassifier\n",
        "from sklearn.neighbors import KNeighborsClassifier\n",
        "from sklearn.naive_bayes import GaussianNB\n",
        "from sklearn.model_selection import train_test_split\n",
        "from sklearn.metrics import roc_curve\n",
        "from sklearn.preprocessing import LabelEncoder\n",
        "import ml_metrics\n",
        "import matplotlib.pyplot as pl\n",
        "drive.mount('/content/drive')"
      ],
      "metadata": {
        "id": "ULDuz6aLFIyM"
      },
      "execution_count": null,
      "outputs": []
    },
    {
      "cell_type": "code",
      "source": [
        "!unzip '/content/drive/MyDrive/ShiftData/public_data.zip'"
      ],
      "metadata": {
        "id": "IdTkJdElFUTe"
      },
      "execution_count": null,
      "outputs": []
    },
    {
      "cell_type": "markdown",
      "source": [
        "### Preprocessing"
      ],
      "metadata": {
        "id": "0g73e1FCGWyw"
      }
    },
    {
      "cell_type": "code",
      "source": [
        "Train = pd.read_csv('/content/train.csv')\n",
        "df = Train\n",
        "categorical_columns = df.columns[df.dtypes == 'object']\n",
        "for column in categorical_columns:\n",
        "    df[column] = LabelEncoder().fit_transform(df[column])\n",
        "df = df.fillna(0)"
      ],
      "metadata": {
        "id": "3UktvWWrFaeZ"
      },
      "execution_count": null,
      "outputs": []
    },
    {
      "cell_type": "code",
      "source": [
        "CorrKoef = df.corr()\n",
        "FieldDrop = [i for i in CorrKoef if CorrKoef[i].isnull().drop_duplicates().values[0]]\n",
        "\n",
        "CorField = []\n",
        "for i in CorrKoef:\n",
        "    for j in CorrKoef.index[CorrKoef[i] > 0.8]:\n",
        "        if i != j and j not in CorField and i not in CorField:\n",
        "            CorField.append(j)\n",
        "            FeildDrop = FieldDrop.append(j)\n",
        "            print ((\"%s-->%s: r^2=%f\") % (i,j, CorrKoef[i][CorrKoef.index==j].values[0]))"
      ],
      "metadata": {
        "id": "MYRNgHtnFwRk"
      },
      "execution_count": null,
      "outputs": []
    },
    {
      "cell_type": "code",
      "source": [
        "CorrKoef = df.corr()\n",
        "FieldDrop = [i for i in CorrKoef if CorrKoef[i].isnull().drop_duplicates().values[0]]\n",
        "\n",
        "CorField = []\n",
        "for i in CorrKoef:\n",
        "    for j in CorrKoef.index[CorrKoef[i] > 0.8]:\n",
        "        if i != j and j not in CorField and i not in CorField:\n",
        "            CorField.append(j)\n",
        "            FeildDrop = FieldDrop.append(j)\n",
        "            print ((\"%s-->%s: r^2=%f\") % (i,j, CorrKoef[i][CorrKoef.index==j].values[0]))"
      ],
      "metadata": {
        "id": "9COURXM_QcKO"
      },
      "execution_count": null,
      "outputs": []
    },
    {
      "cell_type": "code",
      "source": [
        "newtr = df.drop(FieldDrop, axis =1)\n",
        "target = newtr.target.values\n",
        "train = newtr.drop('target', axis=1).values\n",
        "train = pd.DataFrame(sklearn.preprocessing.normalize(train, axis=0))"
      ],
      "metadata": {
        "id": "Nn8pfvyhF9wa"
      },
      "execution_count": null,
      "outputs": []
    },
    {
      "cell_type": "markdown",
      "source": [
        "### Train"
      ],
      "metadata": {
        "id": "26xe75uHGf29"
      }
    },
    {
      "cell_type": "code",
      "source": [
        "coder = PCA(n_components=20)\n",
        "train = coder.fit_transform(train)\n",
        "models = []\n",
        "models.append(RandomForestClassifier(n_estimators=165, max_depth=4, criterion='entropy'))\n",
        "models.append(GradientBoostingClassifier(max_depth =4))\n",
        "models.append(KNeighborsClassifier(n_neighbors=20))\n",
        "models.append(GaussianNB())\n",
        "TRNtrain, TRNtest, TARtrain, TARtest = train_test_split(train, target, test_size=0.3, random_state=0)"
      ],
      "metadata": {
        "id": "G66rKmG8F_2G"
      },
      "execution_count": null,
      "outputs": []
    },
    {
      "cell_type": "code",
      "source": [
        "pl.figure(figsize=(10, 10))\n",
        "for model in models:\n",
        "    model.fit(TRNtrain, TARtrain)\n",
        "    pred_scr = model.predict_proba(TRNtest)[:, 1]\n",
        "    fpr, tpr, thresholds = roc_curve(TARtest, pred_scr)\n",
        "    roc_auc = ml_metrics.auc(TARtest, pred_scr)\n",
        "    md = str(model)\n",
        "    md = md[:md.find('(')]\n",
        "    pl.plot(fpr, tpr, label='ROC fold %s (auc = %0.2f)' % (md, roc_auc))\n",
        "\n",
        "pl.plot([0, 1], [0, 1], '--', color=(0.6, 0.6, 0.6))\n",
        "pl.xlim([0, 1])\n",
        "pl.ylim([0, 1])\n",
        "pl.xlabel('False Positive Rate')\n",
        "pl.ylabel('True Positive Rate')\n",
        "pl.title('Receiver operating characteristic example')\n",
        "pl.legend(loc=\"lower right\")\n",
        "pl.show()"
      ],
      "metadata": {
        "id": "D8LqndNIGBbl"
      },
      "execution_count": null,
      "outputs": []
    },
    {
      "cell_type": "code",
      "source": [
        "pl.figure(figsize=(10, 10))\n",
        "for model in models:\n",
        "    model.fit(TRNtrain, TARtrain)\n",
        "    pred_scr = model.predict_proba(TRNtest)[:, 1]\n",
        "    fpr, tpr, thresholds = roc_curve(TARtest, pred_scr)\n",
        "    roc_auc = ml_metrics.auc(TARtest, pred_scr)\n",
        "    md = str(model)\n",
        "    md = md[:md.find('(')]\n",
        "    pl.plot(fpr, tpr, label='ROC fold %s (auc = %0.2f)' % (md, roc_auc))\n",
        "\n",
        "pl.plot([0, 1], [0, 1], '--', color=(0.6, 0.6, 0.6))\n",
        "pl.xlim([0, 1])\n",
        "pl.ylim([0, 1])\n",
        "pl.xlabel('False Positive Rate')\n",
        "pl.ylabel('True Positive Rate')\n",
        "pl.title('Receiver operating characteristic example')\n",
        "pl.legend(loc=\"lower right\")\n",
        "pl.show()"
      ],
      "metadata": {
        "id": "JjQePq_FWiRz",
        "colab": {
          "base_uri": "https://localhost:8080/",
          "height": 621
        },
        "outputId": "8b6bd204-b4e6-465e-fffa-9e9eb3470175"
      },
      "execution_count": null,
      "outputs": [
        {
          "output_type": "display_data",
          "data": {
            "text/plain": [
              "<Figure size 720x720 with 1 Axes>"
            ],
            "image/png": "[encoded data removed]"
          },
          "metadata": {
            "needs_background": "light"
          }
        }
      ]
    },
    {
      "cell_type": "markdown",
      "source": [
        "## 2. CatBoosting на всём-всём-всём наборе данных"
      ],
      "metadata": {
        "id": "DCFvA1wjGqKd"
      }
    },
    {
      "cell_type": "markdown",
      "source": [
        "После лекции от Артема возникла идея использовать CatBoost на train без какой-либо предобработке данных - первый  успешный результат, скор на лидер борде 0.4967. Попытались в предобработку, как в пункте 1 - картина ухудшалась. Затем поигрались с параметрами CatBoost. Опытным путем выяснили, что оптимальное количество эпох - 2000.\n",
        "Попытались применить OneHotEncoding, что документацией строго-настрого запрещено (об этом мы узнали после получения результатов), соответственно, скор понизился. От идеи отказались"
      ],
      "metadata": {
        "id": "eZJl5b74GysD"
      }
    },
    {
      "cell_type": "markdown",
      "source": [
        "### Библиотеки"
      ],
      "metadata": {
        "id": "0IfPxGwNIn1i"
      }
    },
    {
      "cell_type": "code",
      "source": [
        "import pandas as pd\n",
        "import numpy as np\n",
        "pd.set_option('display.max_columns', None) # Columns fix"
      ],
      "metadata": {
        "id": "sc6Z-MG9Imd7"
      },
      "execution_count": null,
      "outputs": []
    },
    {
      "cell_type": "markdown",
      "source": [
        "### Preprocessing"
      ],
      "metadata": {
        "id": "Up8-jMrXI9bS"
      }
    },
    {
      "cell_type": "code",
      "source": [
        "data = pd.read_csv('./datasets/train.csv', index_col='reco_id_curr')\n",
        "df = pd.DataFrame(data)"
      ],
      "metadata": {
        "id": "0rPtYWqmJAeT"
      },
      "execution_count": null,
      "outputs": []
    },
    {
      "cell_type": "code",
      "source": [
        "features = df.columns\n",
        "categorial = [\n",
        "    'own_car_flag',\n",
        "    'own_realty_flag',\n",
        "    'income_type_name',\n",
        "    'family_status_name',\n",
        "    'housing_type_name',\n",
        "    'type_of_occupation',\n",
        "    'type_of_organization',]\n",
        "\n",
        "numeric = list(set(features) - set(categorial))\n",
        "\n",
        "# Это на случай проверки на все числовые данные, не включая категориальные\n",
        "features = df.select_dtypes(include=[np.number]).columns.tolist()\n",
        "numeric = list(set(features) - set(['target']))"
      ],
      "metadata": {
        "id": "uqPmqvZUJJY_"
      },
      "execution_count": null,
      "outputs": []
    },
    {
      "cell_type": "code",
      "source": [
        "X = df[features].drop(columns=['target'])\n",
        "y = df['target']"
      ],
      "metadata": {
        "id": "WDGd-4HCJbVa"
      },
      "execution_count": null,
      "outputs": []
    },
    {
      "cell_type": "code",
      "source": [
        "from sklearn.compose import ColumnTransformer\n",
        "from sklearn.pipeline import Pipeline\n",
        "from sklearn.impute import SimpleImputer\n",
        "from sklearn.preprocessing import OneHotEncoder\n",
        "from sklearn.preprocessing import FunctionTransformer\n",
        "\n",
        "abs_transformer = FunctionTransformer(np.abs, validate=False)\n",
        "\n",
        "# Preprocessing for numerical data\n",
        "numerical_transformer = Pipeline(steps=[\n",
        "    ('absolute', abs_transformer),\n",
        "    ('imputer', SimpleImputer(strategy='constant', fill_value=0)),\n",
        "])\n",
        "\n",
        "# Preprocessing for categorical data\n",
        "categorical_transformer = Pipeline(steps=[\n",
        "    ('imputer', SimpleImputer(strategy='most_frequent')),\n",
        "    ('onehot', OneHotEncoder(handle_unknown='ignore')),\n",
        "])\n",
        "\n",
        "# Bundle preprocessing for numerical and categorical data\n",
        "preprocessor = ColumnTransformer(\n",
        "    transformers=[\n",
        "        ('num', numerical_transformer, numeric),\n",
        "        # Разкомментировать для включения категориальных данных в обработку\n",
        "        #('cat', categorical_transformer, categorial)\n",
        "    ])"
      ],
      "metadata": {
        "id": "D6F0FeFZJg7e"
      },
      "execution_count": null,
      "outputs": []
    },
    {
      "cell_type": "markdown",
      "source": [
        "### Train"
      ],
      "metadata": {
        "id": "y3Op25_SKYv3"
      }
    },
    {
      "cell_type": "code",
      "source": [
        "from sklearn.model_selection import train_test_split\n",
        "X_train, X_valid, y_train, y_valid = train_test_split(X, y, train_size=0.7, test_size=0.3,\n",
        "                                                     random_state=0)"
      ],
      "metadata": {
        "id": "BLA8jBbRJkaa"
      },
      "execution_count": null,
      "outputs": []
    },
    {
      "cell_type": "code",
      "source": [
        "from catboost import CatBoostRegressor\n",
        "model = CatBoostRegressor(iterations=2000,\n",
        "                           task_type=\"GPU\",\n",
        "                           devices='0:1',\n",
        "                           random_state = 2120)\n",
        "\n",
        "pipeline = Pipeline(steps=[('preprocessor', preprocessor),\n",
        "                              ('model', model)\n",
        "])\n",
        "\n",
        "pipeline.fit(X_train, y_train)"
      ],
      "metadata": {
        "id": "MEJi3fqtJmO1"
      },
      "execution_count": null,
      "outputs": []
    },
    {
      "cell_type": "code",
      "source": [
        "preds = pipeline.predict(X_valid)"
      ],
      "metadata": {
        "id": "qBEJaWKVJzvz"
      },
      "execution_count": null,
      "outputs": []
    },
    {
      "cell_type": "code",
      "source": [
        "import matplotlib.pyplot as plt\n",
        "plt.figure(figsize=(10, 10))\n",
        "fpr, tpr, thresholds = roc_curve(y_valid, preds)\n",
        "plt.plot(fpr, tpr, label=\"test\")\n",
        "plt.show()"
      ],
      "metadata": {
        "id": "61AuBKU5KFxK"
      },
      "execution_count": null,
      "outputs": []
    },
    {
      "cell_type": "code",
      "source": [
        "from sklearn.metrics import roc_auc_score\n",
        "lr_auc = roc_auc_score(y_valid, preds)\n",
        "\n",
        "Gini=lr_auc*2 - 1\n",
        "print(Gini)"
      ],
      "metadata": {
        "id": "nnvnft6XKJah"
      },
      "execution_count": null,
      "outputs": []
    },
    {
      "cell_type": "code",
      "source": [
        "test = pd.read_csv('./datasets/test.csv')\n",
        "preds = pipeline.predict(test[list(set(features)- set(['target']))])\n",
        "preds = pd.DataFrame(preds, columns=['target'])\n",
        "preds = preds.abs()"
      ],
      "metadata": {
        "id": "w7dh-XKQKNiL"
      },
      "execution_count": null,
      "outputs": []
    },
    {
      "cell_type": "code",
      "source": [
        "ids = pd.DataFrame(test['reco_id_curr'])\n",
        "ids.join(preds, how='outer').to_csv('answer.csv', index=False)"
      ],
      "metadata": {
        "id": "KO4XtJcbKpaH"
      },
      "execution_count": null,
      "outputs": []
    },
    {
      "cell_type": "markdown",
      "source": [
        "## 3. Грамотная обработка данных + CatBoost = успех"
      ],
      "metadata": {
        "id": "E7fACzcFLnf8"
      }
    },
    {
      "cell_type": "markdown",
      "source": [
        "Здесь не будем приводить код, так как он не отличается от готового решения. Все изменения происходили с данными. То есть неудачные попытки данного раздела заключаются в работе нашего решения просто на других данных, которые похуже финальных. После того, как выбили максимальный для нас скор (не на финальных данных) - снова поигрались с параметрами CatBoost. Оптимальное количество эпох - 2000+- (мы взяли 2222), глубина по умолчанию."
      ],
      "metadata": {
        "id": "_Ntte8W2Lu6U"
      }
    },
    {
      "cell_type": "markdown",
      "source": [
        "# Готовое решение."
      ],
      "metadata": {
        "id": "ZaHfiAGYDwDB"
      }
    },
    {
      "cell_type": "markdown",
      "source": [
        "Команда Дора: Ольга Крылов, Данил Парков, Антон Чанчиков.\n",
        "Представляем финальное решение, состоящее из следующих частей:\n",
        "1. Обработка данных\n",
        "В блоке обработки данных можно видеть, что мы анализируем все предоставленные в распоряжения таблицы. Каждая таблица предобрабатывается - удаляются ненужные стобцы, берется сумма или максимум поля (об этом подробнее на презентации). Каждую новую таблицу присоединяем к train и test.\n",
        "2. CatBoost + 2000 итераций\n",
        "\n",
        "Про работу: в целом мы работали как команда. Я и Даниил занимались кодом, самостоятельно проверяли разные гипотезы по выбору модели и работы с данными, пока Ольга занималась развернутым анализом. Затем запустили результаты от Ольги и сравнили с нашими, первый выдал лучший скор.\n",
        "\n",
        "**Для корректной работы ноутбука необходимо иметь на диске в одной папке архив public_data.zip и test_csv. При необходимости, поменяйте пути в блоках кода номер 65 и 91.**"
      ],
      "metadata": {
        "id": "BVtolBvzusqM"
      }
    },
    {
      "cell_type": "markdown",
      "source": [
        "## Библиотеки"
      ],
      "metadata": {
        "id": "EbAcnPgGM7Ww"
      }
    },
    {
      "cell_type": "code",
      "source": [
        "!pip install catboost\n",
        "!pip install ipywidgets\n",
        "!jupyter nbextension enable --py widgetsnbextension"
      ],
      "metadata": {
        "id": "BpWmyZap4rBW"
      },
      "execution_count": null,
      "outputs": []
    },
    {
      "cell_type": "code",
      "execution_count": null,
      "metadata": {
        "colab": {
          "base_uri": "https://localhost:8080/"
        },
        "id": "qzV_5WSXo6dd",
        "outputId": "45a71815-05ba-4b54-f5fd-1e19d57584c8"
      },
      "outputs": [
        {
          "output_type": "stream",
          "name": "stdout",
          "text": [
            "Drive already mounted at /content/drive; to attempt to forcibly remount, call drive.mount(\"/content/drive\", force_remount=True).\n",
            "Archive:  /content/drive/MyDrive/ShiftData/public_data.zip\n",
            "replace previous_loan.csv? [y]es, [n]o, [A]ll, [N]one, [r]ename: n\n",
            "replace train.csv? [y]es, [n]o, [A]ll, [N]one, [r]ename: n\n",
            "replace Описание колонок.xlsx? [y]es, [n]o, [A]ll, [N]one, [r]ename: n\n",
            "replace bki.csv? [y]es, [n]o, [A]ll, [N]one, [r]ename: n\n",
            "replace bki_balance.csv? [y]es, [n]o, [A]ll, [N]one, [r]ename: n\n",
            "replace cash_pos_balance.csv? [y]es, [n]o, [A]ll, [N]one, [r]ename: n\n",
            "replace credit_card_balance.csv? [y]es, [n]o, [A]ll, [N]one, [r]ename: n\n",
            "replace installments_payments.csv? [y]es, [n]o, [A]ll, [N]one, [r]ename: n\n"
          ]
        }
      ],
      "source": [
        "from google.colab import drive\n",
        "drive.mount('/content/drive')\n",
        "!unzip '/content/drive/MyDrive/ShiftData/public_data.zip'"
      ]
    },
    {
      "cell_type": "code",
      "source": [
        "import pandas as pd\n",
        "import numpy as np\n",
        "import random\n",
        "random.seed(0)"
      ],
      "metadata": {
        "id": "TEHE6rDFwrAd"
      },
      "execution_count": null,
      "outputs": []
    },
    {
      "cell_type": "code",
      "source": [
        "pd.set_option('display.max_columns', None) # Columns fix"
      ],
      "metadata": {
        "id": "pmwHOuqlwkt5"
      },
      "execution_count": null,
      "outputs": []
    },
    {
      "cell_type": "markdown",
      "source": [
        "## Подготовка данных"
      ],
      "metadata": {
        "id": "l-uvVFyJD2D0"
      }
    },
    {
      "cell_type": "code",
      "source": [
        "df = pd.read_csv('/content/bki.csv')"
      ],
      "metadata": {
        "id": "JDPmFxisw4d0"
      },
      "execution_count": null,
      "outputs": []
    },
    {
      "cell_type": "code",
      "source": [
        "df = df[(df['credit_status'] == 'Active') | (df['credit_status'] == 'Sold')]"
      ],
      "metadata": {
        "id": "XD9s-ByQxhUj"
      },
      "execution_count": null,
      "outputs": []
    },
    {
      "cell_type": "code",
      "source": [
        "df = df.groupby('reco_id_curr').agg({\n",
        "    'reco_bureau_id': 'first',\n",
        "    'credit_day_overdue': 'sum',\n",
        "    'credit_sum_overdue': 'sum',\n",
        "    'credit_sum_limit': 'sum',\n",
        "    'credit_sum_debt': 'sum',\n",
        "    'credit_sum': 'sum',\n",
        "    'annuity_payment': 'sum',\n",
        "    'days_credit_enddate': 'max',\n",
        "    'days_enddate_fact': 'max',\n",
        "    'days_credit_update': 'max',\n",
        "    'credit_limit_max_overdue': 'sum'\n",
        "}).assign(Prosrochka=lambda x: x['days_credit_enddate'] - x['days_enddate_fact'])"
      ],
      "metadata": {
        "id": "Chp-0PZWx5Rm"
      },
      "execution_count": null,
      "outputs": []
    },
    {
      "cell_type": "code",
      "source": [
        "df.to_csv('/content/bki_act_sum.csv')"
      ],
      "metadata": {
        "id": "veg9U_A8zEXQ"
      },
      "execution_count": null,
      "outputs": []
    },
    {
      "cell_type": "code",
      "source": [
        "df = pd.read_csv('/content/bki.csv')"
      ],
      "metadata": {
        "id": "DL1P6lFXzdQM"
      },
      "execution_count": null,
      "outputs": []
    },
    {
      "cell_type": "code",
      "source": [
        "df = df[df['credit_status'] == 'Closed']"
      ],
      "metadata": {
        "id": "gk9Cs3BEzym4"
      },
      "execution_count": null,
      "outputs": []
    },
    {
      "cell_type": "code",
      "source": [
        "df = df.groupby('reco_id_curr').agg({\n",
        "    'reco_bureau_id': 'first',\n",
        "    'credit_day_overdue': 'sum',\n",
        "    'credit_sum_overdue': 'sum',\n",
        "    'credit_sum_limit': 'sum',\n",
        "    'credit_sum_debt': 'sum',\n",
        "    'credit_sum': 'sum',\n",
        "    'annuity_payment': 'sum',\n",
        "    'days_credit_enddate': 'max',\n",
        "    'days_enddate_fact': 'max',\n",
        "    'days_credit_update': 'max',\n",
        "    'credit_limit_max_overdue': 'sum'\n",
        "}).assign(Prosrochka=lambda x: x['days_credit_enddate'] - x['days_enddate_fact'])"
      ],
      "metadata": {
        "id": "vOgO520Q0Aak"
      },
      "execution_count": null,
      "outputs": []
    },
    {
      "cell_type": "code",
      "source": [
        "df.to_csv('/content/bki_closed_sum.csv')"
      ],
      "metadata": {
        "id": "eiCCsoal0CIX"
      },
      "execution_count": null,
      "outputs": []
    },
    {
      "cell_type": "code",
      "source": [
        "df = pd.read_csv('/content/cash_pos_balance.csv')"
      ],
      "metadata": {
        "id": "8RmYVP5f0GYf"
      },
      "execution_count": null,
      "outputs": []
    },
    {
      "cell_type": "code",
      "source": [
        "df = df[df['contract_status_name'] == 'Active']"
      ],
      "metadata": {
        "id": "rGBXSz-B0QAH"
      },
      "execution_count": null,
      "outputs": []
    },
    {
      "cell_type": "code",
      "source": [
        "df = df.groupby('reco_id_curr').agg({\n",
        "    'installment_future_count': 'sum',\n",
        "    'reco_dpd': 'sum',\n",
        "    'months_balance': 'max',\n",
        "    'installment_count': 'max',\n",
        "    'reco_dpd_def': 'sum'\n",
        "})"
      ],
      "metadata": {
        "id": "twHtXZRg0tFl"
      },
      "execution_count": null,
      "outputs": []
    },
    {
      "cell_type": "code",
      "source": [
        "df.to_csv('/content/cash_act.csv')"
      ],
      "metadata": {
        "id": "rYMJHIvz2Gja"
      },
      "execution_count": null,
      "outputs": []
    },
    {
      "cell_type": "code",
      "source": [
        "df = pd.read_csv('/content/previous_loan.csv')"
      ],
      "metadata": {
        "id": "6ATnYiMg2MIq"
      },
      "execution_count": null,
      "outputs": []
    },
    {
      "cell_type": "code",
      "source": [
        "df = df.groupby('reco_id_curr').agg({\n",
        "    'last_day_app_f': 'first',\n",
        "    'annuity_payment': 'sum',\n",
        "    'termination_date': 'sum',\n",
        "    'last_due_date': 'sum',\n",
        "    'loan_body_requested': 'sum',\n",
        "    'insured_last_f': 'sum',\n",
        "    'days_first_due': 'sum',\n",
        "    'first_due_date': 'sum',\n",
        "    'payment_count': 'max',\n",
        "    'contract_status_name': 'max'\n",
        "})"
      ],
      "metadata": {
        "id": "jclazj9Y2Roz"
      },
      "execution_count": null,
      "outputs": []
    },
    {
      "cell_type": "code",
      "source": [
        "df.to_csv('/content/pr_loan_sum.csv')"
      ],
      "metadata": {
        "id": "jd9jS9S22jI3"
      },
      "execution_count": null,
      "outputs": []
    },
    {
      "cell_type": "code",
      "source": [
        "train = pd.read_csv('/content/train.csv')\n",
        "df1 = pd.read_csv('/content/cash_act.csv')"
      ],
      "metadata": {
        "id": "P4FOGvGY2viR"
      },
      "execution_count": null,
      "outputs": []
    },
    {
      "cell_type": "code",
      "source": [
        "df = pd.merge(train, df, on='reco_id_curr', how='left')"
      ],
      "metadata": {
        "id": "t5etwrwD27D2"
      },
      "execution_count": null,
      "outputs": []
    },
    {
      "cell_type": "code",
      "source": [
        "df = pd.merge(df, df1, on='reco_id_curr', how='left')"
      ],
      "metadata": {
        "id": "94Q7HaXE3u0o"
      },
      "execution_count": null,
      "outputs": []
    },
    {
      "cell_type": "code",
      "source": [
        "df.to_csv('/content/train_new.csv')"
      ],
      "metadata": {
        "id": "_LC1DwFl31zG"
      },
      "execution_count": null,
      "outputs": []
    },
    {
      "cell_type": "code",
      "source": [
        "df2 = pd.read_csv('/content/bki_act_sum.csv')"
      ],
      "metadata": {
        "id": "okO3hlbk39fJ"
      },
      "execution_count": null,
      "outputs": []
    },
    {
      "cell_type": "code",
      "source": [
        "df = pd.merge(df, df2, on='reco_id_curr', how='left')\n",
        "df = pd.merge(df, df1, on='reco_id_curr', how='left')"
      ],
      "metadata": {
        "id": "DCwUNgSf4C-P"
      },
      "execution_count": null,
      "outputs": []
    },
    {
      "cell_type": "code",
      "source": [
        "df.to_csv('/content/train_new2.csv')"
      ],
      "metadata": {
        "id": "6NKx3OSZ4gvs"
      },
      "execution_count": null,
      "outputs": []
    },
    {
      "cell_type": "code",
      "source": [
        "data = df"
      ],
      "metadata": {
        "id": "DRX8K6037U5u"
      },
      "execution_count": null,
      "outputs": []
    },
    {
      "cell_type": "code",
      "source": [
        "df = pd.read_csv('/content/pr_loan_sum.csv')\n",
        "test = pd.read_csv('/content/drive/MyDrive/ShiftData/test.csv')\n",
        "df1 = pd.read_csv('/content/cash_act.csv')\n",
        "df = pd.merge(test, df, on='reco_id_curr', how='left')\n",
        "df = pd.merge(df, df1, on='reco_id_curr', how='left')\n",
        "df.to_csv('/content/test_new.csv')\n",
        "df2 = pd.read_csv('/content/bki_act_sum.csv')\n",
        "df = pd.merge(df, df2, on='reco_id_curr', how='left')\n",
        "df = pd.merge(df, df1, on='reco_id_curr', how='left')\n",
        "df.to_csv('/content/train_new2.csv')\n",
        "test = df\n",
        "del df"
      ],
      "metadata": {
        "id": "YzPBJoCe66pb"
      },
      "execution_count": null,
      "outputs": []
    },
    {
      "cell_type": "code",
      "source": [
        "X = pd.DataFrame(data)\n",
        "y = X['target']"
      ],
      "metadata": {
        "id": "0WI63EsZ4zLj"
      },
      "execution_count": null,
      "outputs": []
    },
    {
      "cell_type": "code",
      "source": [
        "#Выделяем нумерические и категориальные признаки\n",
        "num_cols = X.select_dtypes(exclude=['object']).columns\n",
        "cat_cols = list(set(X.columns) - set(num_cols))\n",
        "\n",
        "#В пустых местах у категориальных признаков ставим константную строку 'none'\n",
        "from sklearn.impute import SimpleImputer\n",
        "cat_imputer = SimpleImputer(strategy=\"constant\", fill_value=\"none\")\n",
        "cat_data = pd.DataFrame(cat_imputer.fit_transform(X[cat_cols]), columns=cat_cols)\n",
        "cat_data['reco_id_curr'] = X.index.values\n",
        "cat_data.set_index('reco_id_curr', inplace=True)\n",
        "\n",
        "#Пустые места в нумерических заполняем нулями\n",
        "num_data = X[num_cols].fillna(0)\n",
        "\n",
        "#Объединяем полученные обработанные нумерические и категориальные даты в новый train\n",
        "X = num_data.join(cat_data).drop(columns='target')"
      ],
      "metadata": {
        "id": "7AN9Y8Yl43CO"
      },
      "execution_count": null,
      "outputs": []
    },
    {
      "cell_type": "markdown",
      "source": [
        "## Train"
      ],
      "metadata": {
        "id": "lrxlTLAnLhJA"
      }
    },
    {
      "cell_type": "code",
      "source": [
        "from sklearn.model_selection import train_test_split\n",
        "X_train, X_valid, y_train, y_valid = train_test_split(X, y, train_size=0.9, test_size=0.1,\n",
        "                                                    random_state=0)"
      ],
      "metadata": {
        "id": "gbRDiLwZ44hG"
      },
      "execution_count": null,
      "outputs": []
    },
    {
      "cell_type": "code",
      "source": [
        "from catboost import CatBoostRegressor, Pool\n",
        "model = CatBoostRegressor(iterations=2000,\n",
        "                           task_type=\"GPU\",\n",
        "                           devices='0:1:2',\n",
        "                           random_state=2130)"
      ],
      "metadata": {
        "id": "9zCjUUUS46Ce"
      },
      "execution_count": null,
      "outputs": []
    },
    {
      "cell_type": "code",
      "source": [
        "pool_train = Pool(X_train, y_train, cat_features=cat_cols)\n",
        "model.fit(pool_train)"
      ],
      "metadata": {
        "id": "VZTtWOcH47hE"
      },
      "execution_count": null,
      "outputs": []
    },
    {
      "cell_type": "code",
      "source": [
        "preds = model.predict(X_valid)"
      ],
      "metadata": {
        "id": "L2abN5au4802"
      },
      "execution_count": null,
      "outputs": []
    },
    {
      "cell_type": "code",
      "source": [
        "from sklearn.metrics import mean_absolute_error, roc_curve\n",
        "mean_absolute_error(y_valid, preds)"
      ],
      "metadata": {
        "colab": {
          "base_uri": "https://localhost:8080/"
        },
        "id": "-lrSF2EO4_Sj",
        "outputId": "aa717d0d-c5ce-43b5-92ee-f3fdc40bdb31"
      },
      "execution_count": null,
      "outputs": [
        {
          "output_type": "execute_result",
          "data": {
            "text/plain": [
              "0.13609802026538254"
            ]
          },
          "metadata": {},
          "execution_count": 98
        }
      ]
    },
    {
      "cell_type": "code",
      "source": [
        "import matplotlib.pyplot as plt\n",
        "plt.figure(figsize=(10, 10))\n",
        "fpr, tpr, thresholds = roc_curve(y_valid, preds)\n",
        "plt.plot(fpr, tpr, label=\"test\")\n",
        "plt.plot([0, 1], [0, 1], '--', color=(0.6, 0.6, 0.6))\n",
        "plt.xlim([0, 1])\n",
        "plt.ylim([0, 1])\n",
        "plt.xlabel('False Positive Rate')\n",
        "plt.ylabel('True Positive Rate')\n",
        "plt.show()"
      ],
      "metadata": {
        "colab": {
          "base_uri": "https://localhost:8080/",
          "height": 610
        },
        "id": "6hEwM3rg5AbW",
        "outputId": "01d5492c-c1e9-4547-84dd-30d17fc4c5ae"
      },
      "execution_count": null,
      "outputs": [
        {
          "output_type": "display_data",
          "data": {
            "text/plain": [
              "<Figure size 720x720 with 1 Axes>"
            ],
            "image/png": "[encoded data removed]"
          },
          "metadata": {
            "needs_background": "light"
          }
        }
      ]
    },
    {
      "cell_type": "code",
      "source": [
        "from sklearn.metrics import roc_auc_score\n",
        "lr_auc = roc_auc_score(y_valid, preds)\n",
        "lr_auc"
      ],
      "metadata": {
        "colab": {
          "base_uri": "https://localhost:8080/"
        },
        "id": "UTV-nmXX5B0r",
        "outputId": "7926515a-2aae-48d2-8caf-7db44f64d567"
      },
      "execution_count": null,
      "outputs": [
        {
          "output_type": "execute_result",
          "data": {
            "text/plain": [
              "0.7750919162696228"
            ]
          },
          "metadata": {},
          "execution_count": 100
        }
      ]
    },
    {
      "cell_type": "code",
      "source": [
        "Gini=lr_auc*2 - 1 # 0.549508021050578\n",
        "Gini"
      ],
      "metadata": {
        "colab": {
          "base_uri": "https://localhost:8080/"
        },
        "id": "L3oZ5UuA5CqU",
        "outputId": "53b3de54-5a86-4216-efea-64f9d69a0707"
      },
      "execution_count": null,
      "outputs": [
        {
          "output_type": "execute_result",
          "data": {
            "text/plain": [
              "0.5501838325392456"
            ]
          },
          "metadata": {},
          "execution_count": 101
        }
      ]
    },
    {
      "cell_type": "code",
      "source": [
        "cat_data = pd.DataFrame(cat_imputer.fit_transform(test[cat_cols]), columns=cat_cols)\n",
        "cat_data['reco_id_curr'] = test.index.values\n",
        "cat_data.set_index('reco_id_curr', inplace=True)\n",
        "num_data = test[list(set(num_cols)-set(['target']))].fillna(0)\n",
        "test_data = num_data.join(cat_data)"
      ],
      "metadata": {
        "id": "fzFe6vlU71Jk"
      },
      "execution_count": null,
      "outputs": []
    },
    {
      "cell_type": "code",
      "source": [
        "test_pool = Pool(test_data, cat_features=cat_cols)\n",
        "test_preds = model.predict(test_pool)\n",
        "results = pd.DataFrame({'reco_id_curr': test_data.index, 'target': test_preds})"
      ],
      "metadata": {
        "id": "UBFftd7k76Jh"
      },
      "execution_count": null,
      "outputs": []
    },
    {
      "cell_type": "code",
      "source": [
        "results.to_csv('answer.csv', index=False)"
      ],
      "metadata": {
        "id": "jOJv1iyI8Erb"
      },
      "execution_count": null,
      "outputs": []
    },
    {
      "cell_type": "code",
      "source": [
        "results.shape"
      ],
      "metadata": {
        "colab": {
          "base_uri": "https://localhost:8080/"
        },
        "id": "wTTf6cD7975h",
        "outputId": "c943a701-a9fe-4d2a-aff1-5ebe4e0c19ba"
      },
      "execution_count": null,
      "outputs": [
        {
          "output_type": "execute_result",
          "data": {
            "text/plain": [
              "(46127, 2)"
            ]
          },
          "metadata": {},
          "execution_count": 105
        }
      ]
    },
    {
      "cell_type": "code",
      "source": [
        "results.head(15)"
      ],
      "metadata": {
        "colab": {
          "base_uri": "https://localhost:8080/",
          "height": 520
        },
        "id": "fD-wbjIg-Nxf",
        "outputId": "0425868a-cd98-442b-d527-c6cce3bdc2ea"
      },
      "execution_count": null,
      "outputs": [
        {
          "output_type": "execute_result",
          "data": {
            "text/plain": [
              "    reco_id_curr    target\n",
              "0              0  0.059660\n",
              "1              1  0.034910\n",
              "2              2  0.068484\n",
              "3              3  0.020771\n",
              "4              4  0.026564\n",
              "5              5  0.014635\n",
              "6              6  0.031681\n",
              "7              7  0.012000\n",
              "8              8  0.163655\n",
              "9              9  0.002321\n",
              "10            10 -0.006999\n",
              "11            11  0.060249\n",
              "12            12  0.155372\n",
              "13            13  0.062301\n",
              "14            14  0.190136"
            ],
            "text/html": [
              "\n",
              "  <div id=\"df-50e419b9-8a46-43be-92ce-d099bd69447b\">\n",
              "    <div class=\"colab-df-container\">\n",
              "      <div>\n",
              "<style scoped>\n",
              "    .dataframe tbody tr th:only-of-type {\n",
              "        vertical-align: middle;\n",
              "    }\n",
              "\n",
              "    .dataframe tbody tr th {\n",
              "        vertical-align: top;\n",
              "    }\n",
              "\n",
              "    .dataframe thead th {\n",
              "        text-align: right;\n",
              "    }\n",
              "</style>\n",
              "<table border=\"1\" class=\"dataframe\">\n",
              "  <thead>\n",
              "    <tr style=\"text-align: right;\">\n",
              "      <th></th>\n",
              "      <th>reco_id_curr</th>\n",
              "      <th>target</th>\n",
              "    </tr>\n",
              "  </thead>\n",
              "  <tbody>\n",
              "    <tr>\n",
              "      <th>0</th>\n",
              "      <td>0</td>\n",
              "      <td>0.059660</td>\n",
              "    </tr>\n",
              "    <tr>\n",
              "      <th>1</th>\n",
              "      <td>1</td>\n",
              "      <td>0.034910</td>\n",
              "    </tr>\n",
              "    <tr>\n",
              "      <th>2</th>\n",
              "      <td>2</td>\n",
              "      <td>0.068484</td>\n",
              "    </tr>\n",
              "    <tr>\n",
              "      <th>3</th>\n",
              "      <td>3</td>\n",
              "      <td>0.020771</td>\n",
              "    </tr>\n",
              "    <tr>\n",
              "      <th>4</th>\n",
              "      <td>4</td>\n",
              "      <td>0.026564</td>\n",
              "    </tr>\n",
              "    <tr>\n",
              "      <th>5</th>\n",
              "      <td>5</td>\n",
              "      <td>0.014635</td>\n",
              "    </tr>\n",
              "    <tr>\n",
              "      <th>6</th>\n",
              "      <td>6</td>\n",
              "      <td>0.031681</td>\n",
              "    </tr>\n",
              "    <tr>\n",
              "      <th>7</th>\n",
              "      <td>7</td>\n",
              "      <td>0.012000</td>\n",
              "    </tr>\n",
              "    <tr>\n",
              "      <th>8</th>\n",
              "      <td>8</td>\n",
              "      <td>0.163655</td>\n",
              "    </tr>\n",
              "    <tr>\n",
              "      <th>9</th>\n",
              "      <td>9</td>\n",
              "      <td>0.002321</td>\n",
              "    </tr>\n",
              "    <tr>\n",
              "      <th>10</th>\n",
              "      <td>10</td>\n",
              "      <td>-0.006999</td>\n",
              "    </tr>\n",
              "    <tr>\n",
              "      <th>11</th>\n",
              "      <td>11</td>\n",
              "      <td>0.060249</td>\n",
              "    </tr>\n",
              "    <tr>\n",
              "      <th>12</th>\n",
              "      <td>12</td>\n",
              "      <td>0.155372</td>\n",
              "    </tr>\n",
              "    <tr>\n",
              "      <th>13</th>\n",
              "      <td>13</td>\n",
              "      <td>0.062301</td>\n",
              "    </tr>\n",
              "    <tr>\n",
              "      <th>14</th>\n",
              "      <td>14</td>\n",
              "      <td>0.190136</td>\n",
              "    </tr>\n",
              "  </tbody>\n",
              "</table>\n",
              "</div>\n",
              "      <button class=\"colab-df-convert\" onclick=\"convertToInteractive('df-50e419b9-8a46-43be-92ce-d099bd69447b')\"\n",
              "              title=\"Convert this dataframe to an interactive table.\"\n",
              "              style=\"display:none;\">\n",
              "        \n",
              "  <svg xmlns=\"http://www.w3.org/2000/svg\" height=\"24px\"viewBox=\"0 0 24 24\"\n",
              "       width=\"24px\">\n",
              "    <path d=\"M0 0h24v24H0V0z\" fill=\"none\"/>\n",
              "    <path d=\"M18.56 5.44l.94 2.06.94-2.06 2.06-.94-2.06-.94-.94-2.06-.94 2.06-2.06.94zm-11 1L8.5 8.5l.94-2.06 2.06-.94-2.06-.94L8.5 2.5l-.94 2.06-2.06.94zm10 10l.94 2.06.94-2.06 2.06-.94-2.06-.94-.94-2.06-.94 2.06-2.06.94z\"/><path d=\"M17.41 7.96l-1.37-1.37c-.4-.4-.92-.59-1.43-.59-.52 0-1.04.2-1.43.59L10.3 9.45l-7.72 7.72c-.78.78-.78 2.05 0 2.83L4 21.41c.39.39.9.59 1.41.59.51 0 1.02-.2 1.41-.59l7.78-7.78 2.81-2.81c.8-.78.8-2.07 0-2.86zM5.41 20L4 18.59l7.72-7.72 1.47 1.35L5.41 20z\"/>\n",
              "  </svg>\n",
              "      </button>\n",
              "      \n",
              "  <style>\n",
              "    .colab-df-container {\n",
              "      display:flex;\n",
              "      flex-wrap:wrap;\n",
              "      gap: 12px;\n",
              "    }\n",
              "\n",
              "    .colab-df-convert {\n",
              "      background-color: #E8F0FE;\n",
              "      border: none;\n",
              "      border-radius: 50%;\n",
              "      cursor: pointer;\n",
              "      display: none;\n",
              "      fill: #1967D2;\n",
              "      height: 32px;\n",
              "      padding: 0 0 0 0;\n",
              "      width: 32px;\n",
              "    }\n",
              "\n",
              "    .colab-df-convert:hover {\n",
              "      background-color: #E2EBFA;\n",
              "      box-shadow: 0px 1px 2px rgba(60, 64, 67, 0.3), 0px 1px 3px 1px rgba(60, 64, 67, 0.15);\n",
              "      fill: #174EA6;\n",
              "    }\n",
              "\n",
              "    [theme=dark] .colab-df-convert {\n",
              "      background-color: #3B4455;\n",
              "      fill: #D2E3FC;\n",
              "    }\n",
              "\n",
              "    [theme=dark] .colab-df-convert:hover {\n",
              "      background-color: #434B5C;\n",
              "      box-shadow: 0px 1px 3px 1px rgba(0, 0, 0, 0.15);\n",
              "      filter: drop-shadow(0px 1px 2px rgba(0, 0, 0, 0.3));\n",
              "      fill: #FFFFFF;\n",
              "    }\n",
              "  </style>\n",
              "\n",
              "      <script>\n",
              "        const buttonEl =\n",
              "          document.querySelector('#df-50e419b9-8a46-43be-92ce-d099bd69447b button.colab-df-convert');\n",
              "        buttonEl.style.display =\n",
              "          google.colab.kernel.accessAllowed ? 'block' : 'none';\n",
              "\n",
              "        async function convertToInteractive(key) {\n",
              "          const element = document.querySelector('#df-50e419b9-8a46-43be-92ce-d099bd69447b');\n",
              "          const dataTable =\n",
              "            await google.colab.kernel.invokeFunction('convertToInteractive',\n",
              "                                                     [key], {});\n",
              "          if (!dataTable) return;\n",
              "\n",
              "          const docLinkHtml = 'Like what you see? Visit the ' +\n",
              "            '<a target=\"_blank\" href=https://colab.research.google.com/notebooks/data_table.ipynb>data table notebook</a>'\n",
              "            + ' to learn more about interactive tables.';\n",
              "          element.innerHTML = '';\n",
              "          dataTable['output_type'] = 'display_data';\n",
              "          await google.colab.output.renderOutput(dataTable, element);\n",
              "          const docLink = document.createElement('div');\n",
              "          docLink.innerHTML = docLinkHtml;\n",
              "          element.appendChild(docLink);\n",
              "        }\n",
              "      </script>\n",
              "    </div>\n",
              "  </div>\n",
              "  "
            ]
          },
          "metadata": {},
          "execution_count": 106
        }
      ]
    }
  ]
}